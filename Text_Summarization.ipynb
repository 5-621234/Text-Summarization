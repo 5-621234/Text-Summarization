{
  "nbformat": 4,
  "nbformat_minor": 0,
  "metadata": {
    "colab": {
      "provenance": [],
      "authorship_tag": "ABX9TyM+Z2mZQHiV7okF3bsxMu6C",
      "include_colab_link": true
    },
    "kernelspec": {
      "name": "python3",
      "display_name": "Python 3"
    },
    "language_info": {
      "name": "python"
    }
  },
  "cells": [
    {
      "cell_type": "markdown",
      "metadata": {
        "id": "view-in-github",
        "colab_type": "text"
      },
      "source": [
        "<a href=\"https://colab.research.google.com/github/5-621234/Text-Summarization/blob/main/Text_Summarization.ipynb\" target=\"_parent\"><img src=\"https://colab.research.google.com/assets/colab-badge.svg\" alt=\"Open In Colab\"/></a>"
      ]
    },
    {
      "cell_type": "markdown",
      "source": [
        "   WorkFlow\n",
        "\n",
        "   \n",
        "Text Cleaning\n",
        "\n",
        "Sentence Tokenization\n",
        "\n",
        "Word Tokenization\n",
        "\n",
        "Word Frequency Table\n",
        "\n",
        "Summarization\n",
        "\n"
      ],
      "metadata": {
        "id": "8vsVN7b407WN"
      }
    },
    {
      "cell_type": "code",
      "execution_count": null,
      "metadata": {
        "id": "KZ0qGsgIBu96"
      },
      "outputs": [],
      "source": [
        "text = \"\"\"\n",
        "The G20 or Group of Twenty is an intergovernmental forum comprising 19 countries and the European Union (EU). It works to address major issues related to the global economy, \n",
        "such as international financial stability, climate change mitigation, and sustainable development.The G20 is composed of most of the world's largest economies, including both \n",
        "industrialised and developing nations; it accounts for around 80% of gross world product (GWP),75% of international trade,[b] two-thirds of the global population, and 60% of the \n",
        "world's land area.The G20 was founded in 1999 in response to several world economic crises. Since 2008, it has convened at least once a year, with summits involving each member's \n",
        "head of government or state, finance minister, or foreign minister, and other high-ranking officials;the EU is represented by the European Commission and the European Central Bank.\n",
        "Other countries, international organizations, and nongovernmental organizations are invited to attend the summits, some on a permanent basis.\n",
        "At its 2009 summit, the G20 declared itself the primary venue for international economic and financial cooperation.The group's stature has risen during the subsequent decade\n",
        "and it is recognised by analysts as exercising considerable global influence;it is also criticised for its limited membership, lack of enforcement powers, and for the alleged\n",
        "undermining of existing international institutions.Summits are often met with protests,particularly by anti-globalisation groups.The G20 is the latest in a series of post–World\n",
        "War II initiatives aimed at international coordination of economic policy,which include institutions such as the \"Bretton Woods twins\", the International Monetary Fund and \n",
        "the World Bank, and what is now the World Trade Organization.\n",
        "The G20 was foreshadowed at the Cologne summit of the G7 in June 1999, and formally established at the G7 Finance Ministers' meeting on 26 September 1999 with an inaugural meeting \n",
        "on 15–16 December 1999 in Berlin. Canadian finance minister Paul Martin was chosen as the first chairman and German finance minister Hans Eichel hosted the inaugural meeting.\n",
        "A 2004 report by Colin I. Bradford and Johannes F. Linn of the Brookings Institution asserted the group was founded primarily at the initiative of Eichel, the concurrent chair of\n",
        "the G7.However, Bradford later described then-Finance Minister of Canada (and future Prime Minister of Canada) Paul Martin as \"the crucial architect of the formation of the G-20 at\n",
        "finance minister level\", and as the one who later \"proposed that the G-20 countries move to leaders level summits\".\n",
        "Canadian academic and journalistic sources have also identified the G20 a project initiated by Martin and his American counterpart then-Treasury Secretary Larry Summers.\n",
        "All acknowledge, however, that Germany and the United States played a key role in bringing their vision into reality.Martin and Summers conceived of the G20 in response to the\n",
        "series of massive debt crises that had spread across emerging markets in the late 1990s, beginning with the Mexican peso crisis and followed by the 1997 Asian financial crisis,\n",
        "the 1998 Russian financial crisis, and eventually impacting the United States, most prominently in the form of the collapse of the prominent hedge fund Long-Term Capital Management \n",
        "in the autumn of 1998.It illustrated to them that in a rapidly globalizing world, the G7, G8, and the Bretton Woods system would be unable to provide financial stability, and they \n",
        "conceived of a new, broader permanent group of major world economies that would give a voice and new responsibilities in providing it.\n",
        "\n",
        "The G20 membership was decided by Eichel's deputy Caio Koch-Weser and Summers's deputy Timothy Geithner. According to the political economist Robert Wade:\n",
        "\"Geithner and Koch-Weser went down the list of countries saying, Canada in, Portugal out, South Africa in, Nigeria and Egypt out, and so on; they sent their list to the other G7\n",
        "finance ministries; and the invitations to the first meeting went out.\"\n",
        "\n",
        "Summits:-\n",
        "The Summit of G20 Finance Ministers and Central Bank Governors, who prepare the leaders' summit and implement their decisions, was created as a response both to the financial crisis\n",
        "of 2007–2008 and to a growing recognition that key emerging countries were not adequately included in the core of global economic discussion and governance. Additionally, G20 \n",
        "summits of heads of state or government were held.After the 2008 debut summit in Washington, DC, G20 leaders met twice a year: in London and Pittsburgh in 2009, and in Toronto\n",
        "and Seoul in 2010.Since 2011, when France chaired and hosted the G20, the summits have been held only once a year. The 2016 summit was held in Hangzhou, China,the 2017 summit\n",
        "was held in Hamburg, Germany, the 2018 summit was held in Buenos Aires, Argentina, the 2019 summit was held in Osaka, Japan, the 2020 summit was scheduled in Riyadh,\n",
        "Saudi Arabia but it was held virtually due to Covid-19, the 2021 summit was held in Rome, Italy and the 2022 summit was held in Bali, Indonesia.\n",
        "A number of other ministerial-level G20 meetings have been held since 2010. Agriculture ministerial meetings were conducted in 2011 and 2012; meetings of foreign ministers were \n",
        "held in 2012 and 2013; trade ministers met in 2012 and 2014, and employment ministerial meetings have taken place annually since 2010.In 2012, the G20 Ministers of Tourism and\n",
        "Heads of Delegation of G20 member countries and other invited States, as well as representatives from the World Travel and Tourism Council (WTTC), World Tourism Organization (UNWTO)\n",
        "and other organisations in the Travel & Tourism sector met in Mérida, Mexico, on May 16 at the 4th G20 meeting and focused on 'Tourism as a means to Job Creation'.\n",
        "As a result of this meeting and The World Travel & Tourism Council's Visa Impact Research,\n",
        "later on the Leaders of the G20, convened in Los Cabos on 18–19 June, would recognise the impact of Travel & Tourism for the first time.\n",
        "That year, the G20 Leaders Declaration added the following statement:\n",
        "\"We recognise the role of travel and tourism as a vehicle for job creation, economic growth and development, and, while recognizing the sovereign right of States to control the\n",
        "entry of foreign nationals, we will work towards developing travel facilitation initiatives in support of job creation,quality work, poverty reduction and global growth.\n",
        "In March 2014, the former Australian foreign minister Julie Bishop, when Australia was hosting the 2014 G20 summit in Brisbane, proposed to ban Russia from the summit over \n",
        "its annexation of Ukrainian Crimea. The BRICS foreign ministers subsequently reminded Bishop that \"the custodianship of the G20 belongs to all Member States equally \n",
        "and no one Member State can unilaterally determine its nature and character.\n",
        "\"In 2016, the G20 framed its commitment to the 2030 Agenda (Sustainable Development Goals) in three key themes;\n",
        "the promotion of strong sustainable and balanced growth; protection of the planet from degradation; and furthering co-operation with low-income and developing countries.\n",
        "At the G20 Summit in Hangzhou, members agreed on an action plan and issued a high level principles document to member countries to help facilitate the agenda's implementation.\n",
        "\n",
        "Japan hosted the 2019 summit,The 2020 summit was to be held in Saudi Arabia,but was instead held virtually on 21–22 November 2020 due to the COVID-19 pandemic under the presidency\n",
        "of Saudi Arabia. 2021 G20 Rome summit which was held in Rome, the capital city of Italy, on 30–31 October 2021.Indonesia holds the G20 presidency from 1 December 2021 to 30 November\n",
        "2022.During its presidency, Indonesia has focused on the global COVID-19 pandemic and how to collectively overcome the challenges related to it. The three priorities of Indonesia's\n",
        "G20 presidency: global health architecture, digital transformations, sustainable energy transitions.In year 2023 India will have presidency of G20, in December 23 India will hold G20 summit.\n",
        "On December 6, 2022.India has assumed the Presidency of G20 summit on rotating basis for 1 year period. Till now it has been presided over by Indonesia.\n",
        "\n",
        "Chair Rotation:- \n",
        "To decide which member nation gets to chair the G20 leaders' meeting for a given year, all members, except the European Union, are assigned to one of five different groupings, \n",
        "with all but one group having four members, the other having three. Nations from the same region are placed in the same group,except Group 1 and Group 2. All countries within \n",
        "a group are eligible to take over the G20 Presidency when it is their group's turn.\n",
        "Therefore,the states within the relevant group need to negotiate among themselves to select the next G20 President. Each year, a different G20 member country assumes the \n",
        "presidency starting from 1 December until 30 November. This system has been in place since 2010, when South Korea, which is in Group 5, held the G20 chair.\n",
        "\n",
        "\n",
        "\n",
        "\"\"\""
      ]
    },
    {
      "cell_type": "code",
      "source": [
        "\n",
        "!pip install -U spacy\n",
        "\n",
        "!python -m spacy download en_core_web_sm"
      ],
      "metadata": {
        "id": "QQlNAH6ACVo5"
      },
      "execution_count": null,
      "outputs": []
    },
    {
      "cell_type": "code",
      "source": [
        "import spacy\n",
        "from spacy.lang.en.stop_words import STOP_WORDS\n",
        "from string import punctuation"
      ],
      "metadata": {
        "id": "e63EXeGYCfLF"
      },
      "execution_count": null,
      "outputs": []
    },
    {
      "cell_type": "code",
      "source": [
        "stopwords = list(STOP_WORDS)"
      ],
      "metadata": {
        "id": "MWGDdF2jConY"
      },
      "execution_count": null,
      "outputs": []
    },
    {
      "cell_type": "code",
      "source": [
        "nlp = spacy.load('en_core_web_sm')"
      ],
      "metadata": {
        "id": "HpueeFMzCtKK"
      },
      "execution_count": null,
      "outputs": []
    },
    {
      "cell_type": "code",
      "source": [
        "# To get the tokenized words or sentences\n",
        "doc = nlp(text)"
      ],
      "metadata": {
        "id": "Q17rpy-xCwCe"
      },
      "execution_count": null,
      "outputs": []
    },
    {
      "cell_type": "code",
      "source": [
        "# Printing the list of tokens\n",
        "tokens = [token.text for token in doc]\n",
        "print(tokens)"
      ],
      "metadata": {
        "id": "xPg7zYzjCzg4"
      },
      "execution_count": null,
      "outputs": []
    },
    {
      "cell_type": "code",
      "source": [
        "punctuation = punctuation + '\\n'\n",
        "punctuation"
      ],
      "metadata": {
        "id": "13bSj_kZC2Dy"
      },
      "execution_count": null,
      "outputs": []
    },
    {
      "cell_type": "code",
      "source": [
        "# To get thw word frequencies of each words \n",
        "word_frequencies = {}\n",
        "for word in doc:\n",
        "    if word.text.lower() not in stopwords:\n",
        "        if word.text.lower() not in punctuation:\n",
        "            if word.text not in word_frequencies.keys():\n",
        "                word_frequencies[word.text] = 1\n",
        "            else:\n",
        "                word_frequencies[word.text] += 1\n",
        "print(word_frequencies)              "
      ],
      "metadata": {
        "id": "MubqGn6KC9XC"
      },
      "execution_count": null,
      "outputs": []
    },
    {
      "cell_type": "code",
      "source": [
        "max_frequency = max(word_frequencies.values())\n",
        "max_frequency"
      ],
      "metadata": {
        "id": "lppFgTApDBk4"
      },
      "execution_count": null,
      "outputs": []
    },
    {
      "cell_type": "code",
      "source": [
        "# To get the normalizeed frequencies\n",
        "for word in word_frequencies.keys():\n",
        "    word_frequencies[word] = word_frequencies[word]/max_frequency\n",
        "\n",
        "print(word_frequencies)"
      ],
      "metadata": {
        "id": "PPn5ND1ZDMiE"
      },
      "execution_count": null,
      "outputs": []
    },
    {
      "cell_type": "code",
      "source": [
        "sentence_tokens = [sent for sent in doc.sents]\n",
        "print(sentence_tokens)"
      ],
      "metadata": {
        "id": "4u4iH_6WDQ_K"
      },
      "execution_count": null,
      "outputs": []
    },
    {
      "cell_type": "code",
      "source": [
        "#To calculate sentence token or sentence score\n",
        "sentence_scores = {}\n",
        "for sent in sentence_tokens:\n",
        "    for word in sent:\n",
        "        if word.text.lower() in word_frequencies.keys():\n",
        "            if sent not in sentence_scores.keys():\n",
        "                sentence_scores[sent] = word_frequencies[word.text.lower()]\n",
        "            else:\n",
        "                sentence_scores[sent] += word_frequencies[word.text.lower()]\n",
        "                \n",
        "sentence_scores"
      ],
      "metadata": {
        "id": "FiR5T_KJDVYu"
      },
      "execution_count": null,
      "outputs": []
    },
    {
      "cell_type": "code",
      "source": [
        "# To get the top 30% of sentences based on their scores\n",
        "from heapq import nlargest\n",
        "select_length = int(len(sentence_tokens)*0.3)\n",
        "select_length"
      ],
      "metadata": {
        "id": "kpBAF_DIDZYA"
      },
      "execution_count": null,
      "outputs": []
    },
    {
      "cell_type": "code",
      "source": [
        "summary = nlargest(select_length, sentence_scores, key = sentence_scores.get)\n",
        "summary"
      ],
      "metadata": {
        "id": "ZE6vbXx7DlF9"
      },
      "execution_count": null,
      "outputs": []
    },
    {
      "cell_type": "code",
      "source": [
        "# To combine these sentences \n",
        "final_summary = [word.text for word in summary]\n",
        "summary = ' '.join(final_summary)"
      ],
      "metadata": {
        "id": "-oM8uB_JDo9W"
      },
      "execution_count": null,
      "outputs": []
    },
    {
      "cell_type": "code",
      "source": [
        "print(summary)"
      ],
      "metadata": {
        "id": "uRgUgPKPDtUV"
      },
      "execution_count": null,
      "outputs": []
    },
    {
      "cell_type": "code",
      "source": [
        "len(text)\n"
      ],
      "metadata": {
        "id": "m6_5e7T5Dxwc"
      },
      "execution_count": null,
      "outputs": []
    },
    {
      "cell_type": "code",
      "source": [
        "len(summary)"
      ],
      "metadata": {
        "id": "sVZHBRd3D4rl"
      },
      "execution_count": null,
      "outputs": []
    },
    {
      "cell_type": "code",
      "source": [],
      "metadata": {
        "id": "8YpTMCSfECTq"
      },
      "execution_count": null,
      "outputs": []
    }
  ]
}